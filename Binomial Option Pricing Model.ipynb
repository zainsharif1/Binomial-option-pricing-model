{
 "cells": [
  {
   "cell_type": "markdown",
   "metadata": {},
   "source": [
    "### Binomial Option pricing model assumptions and outline\n"
   ]
  },
  {
   "cell_type": "markdown",
   "metadata": {},
   "source": [
    "The option pricing model here starts as a binomial 1 step on a european style option and concludes that the accuracy of the model increases with N steps, as N $\\to\\infty$ (continuous time as approximated in the Black Scholes Merton model).\n",
    "\n",
    "We will be using daily stock data on Zurich Insurance Group AG (ZURN.SW) from Yahoo Finance (ZURN.SW.csv) and equity option price data from Eurex, in particular we will be looking at the settlement price as of August 13th, 2019 of a Dec '19 340 strike european call option on ZURN since this currently has the largest open interest on this exchange for this underlying. For more details: <https://www.eurexchange.com/exchange-en/products/equ/opt/56498!quotesSingleViewOption?callPut=Call&maturityDate=201912>\n",
    "\n",
    "Later, we will extend the model to derive the price on equivalent put options.\n",
    "\n",
    "Before we begin introducing the data, let's state some assumptions for the model inputs:\n",
    "\n",
    "* The model will assume underlying stock prices are lognormally distributed and hence stock price returns are normally distributed.\n",
    "* There is a risk-free rate, $\\text{r}$, which is constant throughout the time period until expiry. For the purposes of this example and simplicity the risk-free rate used is the current SNB policy rate of $\\text{-0.75%}$.\n",
    "* Start date for the time period is August 13, 2019 and the end date is option expiration December 20, 2019. Hence time to expiration in trading days is roughly $\\text{t} = 92$. Total trading days in the year are assumed to be 252.\n",
    "* Initial stock price $S_0$ is the closing price on August 13, 2019.\n",
    "* Annual volatility $\\sigma$ of stock prices determined by 1 year historical data from Yahoo finance (derived later).\n",
    "* Dividends ($\\text{q}$): for this option, there is no dividend to be paid before expiration date.\n",
    "* Strike price $\\text{X}$ is 340.\n",
    "* The extent of an 'up-move' ($\\text{U}$) or increase in price and a 'down-move' ($\\text{D}$) or decrease in price is a function of volatility and time to expiration ($\\text{t}$): $U = e^{\\sigma\\sqrt{t}}$, $D = \\frac{1}{U}$\n",
    "* The probability of $\\text{U}$ denoted as $Pr_{(U)}$ is determined by $\\text{U}$, $\\text{D}$, $\\text{r}$ and $\\text{t}$ and the probability of $\\text{D}$ denoted as $Pr_{(D)}$ is equal to $1-Pr_{(U)}$\n",
    "\n",
    "    $Pr_{(U)} = \\frac{e^{(r-q)t} - D}{U-D}$\n",
    "    \n",
    "* The ending stock price following an up-move path is $S_U = S_0 \\times U$\n",
    "* The ending stock price following a down-move path is $S_D = S_0 \\times D$"
   ]
  },
  {
   "cell_type": "markdown",
   "metadata": {},
   "source": [
    "### Deriving annual volatility using past 1 year historical closing prices\n",
    "\n",
    "We have historical closing prices downloaded from Yahoo finance for ZURN.SW in csv format (ZURN.SW.csv). Using statistical packages in Python 3, we can derive the annual volatility (${\\sigma}$) to be used in our model."
   ]
  },
  {
   "cell_type": "code",
   "execution_count": 1,
   "metadata": {},
   "outputs": [],
   "source": [
    "# Begin by importing numpy, pandas\n",
    "import numpy as np\n",
    "import pandas as pd"
   ]
  },
  {
   "cell_type": "code",
   "execution_count": 2,
   "metadata": {},
   "outputs": [
    {
     "name": "stdout",
     "output_type": "stream",
     "text": [
      "         Date        Open        High         Low       Close   Adj Close  \\\n",
      "0  2018-08-13  296.899994  298.700012  294.899994  296.700012  279.776276   \n",
      "1  2018-08-14  299.100006  300.000000  294.899994  296.500000  279.587677   \n",
      "2  2018-08-15  296.000000  297.399994  293.799988  294.799988  277.984619   \n",
      "3  2018-08-16  296.000000  297.799988  295.700012  296.700012  279.776276   \n",
      "4  2018-08-17  298.299988  298.299988  293.799988  295.500000  278.644714   \n",
      "\n",
      "   Volume  \n",
      "0  572052  \n",
      "1  350106  \n",
      "2  306225  \n",
      "3  414659  \n",
      "4  331706  \n",
      "\n",
      "ZURN.SW.csv dataframe first 5 lines using Date as row index and Adj Close as column:\n",
      "              Adj Close\n",
      "Date                  \n",
      "2018-08-13  279.776276\n",
      "2018-08-14  279.587677\n",
      "2018-08-15  277.984619\n",
      "2018-08-16  279.776276\n",
      "2018-08-17  278.644714\n"
     ]
    }
   ],
   "source": [
    "# We read in a stock data data file into a data frame and see what it looks like\n",
    "zurn_data = pd.read_csv(\"ZURN.SW.csv\")\n",
    "\n",
    "# We display the first 5 rows of the DataFrame\n",
    "print(zurn_data.head(5))\n",
    "\n",
    "#and then clean up the data to only display date and adj close columns\n",
    "\n",
    "zurn_stock = pd.read_csv(\"ZURN.SW.csv\", index_col=\"Date\", parse_dates=True, usecols=['Date','Adj Close'])\n",
    "print(\"\\nZURN.SW.csv dataframe first 5 lines using Date as row index and Adj Close as column:\\n\",zurn_stock.head(5))"
   ]
  },
  {
   "cell_type": "code",
   "execution_count": 3,
   "metadata": {},
   "outputs": [
    {
     "data": {
      "text/html": [
       "<div>\n",
       "<style scoped>\n",
       "    .dataframe tbody tr th:only-of-type {\n",
       "        vertical-align: middle;\n",
       "    }\n",
       "\n",
       "    .dataframe tbody tr th {\n",
       "        vertical-align: top;\n",
       "    }\n",
       "\n",
       "    .dataframe thead th {\n",
       "        text-align: right;\n",
       "    }\n",
       "</style>\n",
       "<table border=\"1\" class=\"dataframe\">\n",
       "  <thead>\n",
       "    <tr style=\"text-align: right;\">\n",
       "      <th></th>\n",
       "      <th>Adj Close</th>\n",
       "    </tr>\n",
       "  </thead>\n",
       "  <tbody>\n",
       "    <tr>\n",
       "      <th>count</th>\n",
       "      <td>254.000000</td>\n",
       "    </tr>\n",
       "    <tr>\n",
       "      <th>mean</th>\n",
       "      <td>307.319245</td>\n",
       "    </tr>\n",
       "    <tr>\n",
       "      <th>std</th>\n",
       "      <td>22.913125</td>\n",
       "    </tr>\n",
       "    <tr>\n",
       "      <th>min</th>\n",
       "      <td>267.894958</td>\n",
       "    </tr>\n",
       "    <tr>\n",
       "      <th>25%</th>\n",
       "      <td>287.791443</td>\n",
       "    </tr>\n",
       "    <tr>\n",
       "      <th>50%</th>\n",
       "      <td>301.558640</td>\n",
       "    </tr>\n",
       "    <tr>\n",
       "      <th>75%</th>\n",
       "      <td>325.600006</td>\n",
       "    </tr>\n",
       "    <tr>\n",
       "      <th>max</th>\n",
       "      <td>351.799988</td>\n",
       "    </tr>\n",
       "  </tbody>\n",
       "</table>\n",
       "</div>"
      ],
      "text/plain": [
       "        Adj Close\n",
       "count  254.000000\n",
       "mean   307.319245\n",
       "std     22.913125\n",
       "min    267.894958\n",
       "25%    287.791443\n",
       "50%    301.558640\n",
       "75%    325.600006\n",
       "max    351.799988"
      ]
     },
     "execution_count": 3,
     "metadata": {},
     "output_type": "execute_result"
    }
   ],
   "source": [
    "# We can use pandas to retrieve statistical data from the closing prices\n",
    "zurn_stock.describe()\n"
   ]
  },
  {
   "cell_type": "code",
   "execution_count": 4,
   "metadata": {},
   "outputs": [
    {
     "name": "stdout",
     "output_type": "stream",
     "text": [
      "ZURN standard deviation in $:\n",
      " 22.91312515331088\n",
      "\n",
      "ZURN annual volatility in % terms:\n",
      " 7.4558054861334435\n"
     ]
    }
   ],
   "source": [
    "# Retrieve standard deviation/ volatility\n",
    "\n",
    "print(\"ZURN standard deviation in $:\\n\",zurn_stock.std()[0])\n",
    "\n",
    "#expressed in percentage terms\n",
    "zurn_volatility = zurn_stock.std()[0]/zurn_stock.mean()[0]*100\n",
    "print(\"\\nZURN annual volatility in % terms:\\n\", zurn_volatility)"
   ]
  },
  {
   "cell_type": "markdown",
   "metadata": {},
   "source": [
    "### Calculating the call price, based on inputs to binomial model\n",
    "\n",
    "Now that we have all the available data on ZURN, we can proceed to calculate the price on Dec '19 340 calls based on a single period binomial model. We will calculate each of the inputs and the call price suggested by the model."
   ]
  },
  {
   "cell_type": "code",
   "execution_count": 5,
   "metadata": {},
   "outputs": [
    {
     "name": "stdout",
     "output_type": "stream",
     "text": [
      "S_0= 351.799988\n",
      "U= 1.0460794483047888\n",
      "D= 0.9559503359142919\n",
      "P_U= 0.4584014300772217\n",
      "P_D= 0.5415985699227783\n",
      "S_U= 368.0107373606713\n",
      "S_D= 336.30331670324387\n"
     ]
    }
   ],
   "source": [
    "# time to expiry(t), risk-free rate(r), volatility(v), dividend yield(q), initial stock price (S_0), strike price (X)\n",
    "t = float(92/252)\n",
    "r= -0.0075\n",
    "v = zurn_volatility/100\n",
    "# ZURN does not pay any dividend between start date and expiry\n",
    "q = 0\n",
    "S_0 = zurn_stock['Adj Close'][-1]\n",
    "X=340\n",
    "print(\"S_0=\",S_0)\n",
    "\n",
    "#Calculate U (factor of up-move in price at expiration)\n",
    "U = np.power(np.e, v*np.power(t, .5))\n",
    "print(\"U=\",U)\n",
    "#Calculate D (factor of down-move in price at expiration)\n",
    "D = 1/U\n",
    "print(\"D=\",D)\n",
    "\n",
    "#Calculate the probability of U\n",
    "P_U= (np.power(np.e, (r)*t) - D)/(U-D)\n",
    "print(\"P_U=\",P_U)\n",
    "#Calculate the probability of D\n",
    "P_D = 1 - P_U\n",
    "print(\"P_D=\",P_D)\n",
    "\n",
    "#Calculate the up-move/increase in stock price at expiry\n",
    "S_U = S_0*U\n",
    "print(\"S_U=\",S_U)\n",
    "#Calculate the down-move/decrease in stock price at expiry\n",
    "S_D = S_0*D\n",
    "print(\"S_D=\",S_D)"
   ]
  },
  {
   "cell_type": "markdown",
   "metadata": {},
   "source": [
    "Call option payoff at expiry is determined as:\n",
    "\n",
    "$\\text{C} = \\max(0, Pr_{(D)}\\times (S_D-X), Pr_{(S)}\\times (S_U-X))$\n",
    "\n",
    "discounting to today's value at the current risk free rate will give us the call price:\n",
    "\n",
    "$\\text{c} =\\text{C}e^{-rt}$"
   ]
  },
  {
   "cell_type": "markdown",
   "metadata": {},
   "source": [
    "### Single period binomial model conclusion\n",
    "\n",
    "As of August 13, 2019 the settlement price on ZURN Dec'19 340 calls was 19.27. Our single period model suggests this is trading rich and that the market is pricing in a higher level of volatility compared to our model assumptions."
   ]
  },
  {
   "cell_type": "code",
   "execution_count": 6,
   "metadata": {
    "scrolled": false
   },
   "outputs": [
    {
     "name": "stdout",
     "output_type": "stream",
     "text": [
      "C= 12.8401620636492\n",
      "c= 12.87536782662274\n"
     ]
    }
   ],
   "source": [
    "#Calculate call option payoff\n",
    "C = max(0, P_D*(S_D-X), P_U*(S_U-X))\n",
    "print(\"C=\",C)\n",
    "\n",
    "#Calculate call option value today\n",
    "c = C*np.power(np.e, -r*t)\n",
    "print(\"c=\",c)"
   ]
  },
  {
   "cell_type": "markdown",
   "metadata": {},
   "source": [
    "In a N=2 period binomial model as outlined below, we can see that the larger array of outcomes where the call is in the money, results in a higher ending call price -- closer to the settlement price we observe at the exchange."
   ]
  },
  {
   "cell_type": "code",
   "execution_count": 7,
   "metadata": {},
   "outputs": [
    {
     "name": "stdout",
     "output_type": "stream",
     "text": [
      "S_UU= 384.9684691084896\n",
      "S_DD= 321.48926857155647\n",
      "S_UD= 351.799988\n",
      "S_DU= 351.79998800000004\n",
      "DD move= -5.429734541725716\n",
      "UU move= 9.44930855412746\n",
      "UD and DU move= 5.859155633467539\n",
      "C= 15.308464187595\n",
      "c= 15.350437657945749\n"
     ]
    }
   ],
   "source": [
    "N =2\n",
    "\n",
    "S_UU= S_0*np.power(U,N)\n",
    "S_UD= S_0*U*D\n",
    "S_DU= S_0*D*U\n",
    "S_DD= S_0*np.power(D,N)\n",
    "\n",
    "print(\"S_UU=\",S_UU)\n",
    "print(\"S_DD=\",S_DD)\n",
    "print(\"S_UD=\",S_UD)\n",
    "print(\"S_DU=\",S_DU)\n",
    "\n",
    "C = max(0, np.power(P_D,N)*(S_DD-X))+max(0,np.power(P_U,N)*(S_UU-X))+max(0,(P_U*P_D)*(S_UD+S_DU -2*X))\n",
    "print(\"DD move=\", np.power(P_D,N)*(S_DD-X))\n",
    "print(\"UU move=\", np.power(P_U,N)*(S_UU-X))\n",
    "print(\"UD and DU move=\",P_U*P_D*(S_UD+S_DU -2*X))\n",
    "print(\"C=\",C)\n",
    "\n",
    "c = C*np.power(np.e, -r*t)\n",
    "print(\"c=\",c)"
   ]
  },
  {
   "cell_type": "markdown",
   "metadata": {},
   "source": [
    "### Binomial call option pricing function\n",
    "\n",
    "And here we can form a general model based on the inputs we have introduced earlier. The model sets out to create an array of possible outcomes of ending stock prices based on N steps (a stock price tree). Based on ending stock prices and the strike price, the probabilities of each outcome are then applied at each of the N steps to arrive at the final call price."
   ]
  },
  {
   "cell_type": "code",
   "execution_count": 8,
   "metadata": {},
   "outputs": [
    {
     "name": "stdout",
     "output_type": "stream",
     "text": [
      "Call price for 99 steps is 33.048150764606916\n"
     ]
    }
   ],
   "source": [
    "import math\n",
    "\n",
    "N = np.random.randint(1,130)\n",
    "\n",
    "def binomial_call_pricer(N, S_0, v, r, X, t, q):\n",
    "    \"\"\"\n",
    "    \n",
    "    This pricer takes as input the variables below which we have already defined above based on an N step binomial pricing model\n",
    "    and returns the price of a call option.\n",
    "    \n",
    "    Inputs:\n",
    "    N (int) = number of binomial steps\n",
    "    S_0 (float) = initial stock price\n",
    "    v (float) = annual volatility\n",
    "    r (float) = risk free interest rate per annum\n",
    "    X (float) = strike price\n",
    "    t (float) = time to expiration\n",
    "    q (float) = dividend yield\n",
    "    \n",
    "    Returns (float): call price in local currency terms\n",
    "    \n",
    "    \"\"\"\n",
    "    #Calculate the up-move and down-move factors and associated probabilities\n",
    "    U = np.power(np.e, v*np.power(t, .5))\n",
    "    D = 1 / U\n",
    "    P_U = (np.power(np.e, (r)*t) - D)/(U-D)\n",
    "    P_D = 1 - P_U\n",
    " \n",
    "    # make stock price tree\n",
    "    stock = np.zeros([N + 1, N + 1])\n",
    "    for i in range(N + 1):\n",
    "        for j in range(i + 1):\n",
    "            stock[j, i] = S_0 * np.power(U,i - j) * np.power(D,j)\n",
    "            \n",
    "    # Generate option prices recursively                          \n",
    "    option= np.zeros([N + 1, N + 1])\n",
    "    option[:, N] = np.maximum(np.zeros(N + 1), (stock[:, N] - X))\n",
    "    for i in range(N - 1, -1, -1):\n",
    "        for j in range(0, i + 1):\n",
    "            option[j, i] = (np.power(np.e, -r*t)* (P_U * option[j, i + 1] + P_D * option[j + 1, i + 1]))\n",
    "           \n",
    "            \n",
    "    return option[0,0]\n",
    "                                 \n",
    "print(\"Call price for {} steps is {}\".format(N,binomial_call_pricer(N, S_0, v, r, X, t, q)))"
   ]
  },
  {
   "cell_type": "markdown",
   "metadata": {},
   "source": [
    "### Extending the model to derive the price for a put option\n",
    "\n",
    "Using put-call parity, we can use the price of the call option to derive the price on equivalent put option using the following formula:\n",
    "\n",
    "$p = c + Xe^{-rt} - S_0$"
   ]
  },
  {
   "cell_type": "code",
   "execution_count": 9,
   "metadata": {},
   "outputs": [
    {
     "name": "stdout",
     "output_type": "stream",
     "text": [
      "Put price for 99 steps is 22.18039082774726\n"
     ]
    }
   ],
   "source": [
    "def binomial_put_pricer(N, S_0, v, r, X, t, q):\n",
    "    return binomial_call_pricer(N, S_0, v, r, X, t, q)+X*np.power(np.e,-r*t)-S_0\n",
    "\n",
    "print(\"Put price for {} steps is {}\".format(N,binomial_put_pricer(N, S_0, v, r, X, t, q)))"
   ]
  },
  {
   "cell_type": "markdown",
   "metadata": {},
   "source": [
    "How well does this model fit the observed market data of Dec '19 340 strike european call and put option on ZURN? As N increases, the model does a better job of approximating the price but at some point beyond N', the disparity increases.\n",
    "\n",
    "We can graph the data between N=1 to N=129 steps (129 days in t) to see this visually."
   ]
  },
  {
   "cell_type": "code",
   "execution_count": 10,
   "metadata": {},
   "outputs": [
    {
     "data": {
      "image/png": "[encoded data removed]",
      "text/plain": [
       "<Figure size 432x288 with 1 Axes>"
      ]
     },
     "metadata": {
      "needs_background": "light"
     },
     "output_type": "display_data"
    }
   ],
   "source": [
    "import matplotlib.pyplot as plt\n",
    "%matplotlib inline\n",
    "\n",
    "call_price_data = list()\n",
    "put_price_data = list()\n",
    "\n",
    "for num in range(1,130):\n",
    "    call_price = binomial_call_pricer(num, S_0, v, r, X, t, q)\n",
    "    put_price = binomial_put_pricer(num, S_0, v, r, X, t, q)\n",
    "    call_price_data.append(call_price)\n",
    "    put_price_data.append(put_price)\n",
    "\n",
    "\n",
    "call_plot = plt.plot(call_price_data, label=\"call price\");\n",
    "put_plot = plt.plot(put_price_data, label=\"put price\");\n",
    "\n",
    "plt.xlabel('Number of steps (N)');\n",
    "plt.ylabel('Option price in CHF');\n",
    "\n",
    "plt.axhline(y=19.27, color='r', linestyle='--', label=\"closing call price = 19.27\");\n",
    "\n",
    "plt.legend(loc='lower right');\n",
    "    "
   ]
  },
  {
   "cell_type": "code",
   "execution_count": null,
   "metadata": {},
   "outputs": [],
   "source": []
  }
 ],
 "metadata": {
  "kernelspec": {
   "display_name": "Python 3",
   "language": "python",
   "name": "python3"
  },
  "language_info": {
   "codemirror_mode": {
    "name": "ipython",
    "version": 3
   },
   "file_extension": ".py",
   "mimetype": "text/x-python",
   "name": "python",
   "nbconvert_exporter": "python",
   "pygments_lexer": "ipython3",
   "version": "3.6.8"
  }
 },
 "nbformat": 4,
 "nbformat_minor": 2
}
